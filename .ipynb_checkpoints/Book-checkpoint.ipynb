{
 "cells": [
  {
   "cell_type": "code",
   "execution_count": 96,
   "metadata": {},
   "outputs": [],
   "source": [
    "import pandas as pd\n",
    "import numpy as np\n",
    "import datetime\n",
    "from datetime import datetime, timedelta\n",
    "import matplotlib.pyplot as plt\n",
    "from scipy.stats import kurtosis\n",
    "from scipy.stats import skew\n",
    "from scipy import stats\n",
    "from statistics import variance, pvariance"
   ]
  },
  {
   "cell_type": "code",
   "execution_count": 55,
   "metadata": {},
   "outputs": [],
   "source": [
    "def time_it (freim, coll):\n",
    "    \n",
    "    freim[coll] = freim[coll].astype(str)\n",
    "    freim[coll] = freim[coll].apply(lambda x: x[:4] + '.' + x[4:6] + '.' + x[6:8])\n",
    "    freim[coll] = pd.to_datetime(freim[coll])"
   ]
  },
  {
   "cell_type": "code",
   "execution_count": 56,
   "metadata": {},
   "outputs": [],
   "source": [
    "gasp = pd.read_csv('GAZP_170101_231231.txt')"
   ]
  },
  {
   "cell_type": "code",
   "execution_count": 58,
   "metadata": {},
   "outputs": [],
   "source": [
    "time_it(gasp, '<DATE>')"
   ]
  },
  {
   "cell_type": "code",
   "execution_count": 64,
   "metadata": {
    "scrolled": false
   },
   "outputs": [
    {
     "data": {
      "text/plain": [
       "array([155.97, 155.64, 156.85, ..., 166.68, 166.6 , 166.38])"
      ]
     },
     "execution_count": 64,
     "metadata": {},
     "output_type": "execute_result"
    }
   ],
   "source": [
    "np.array(gasp['<CLOSE>'], )"
   ]
  },
  {
   "cell_type": "code",
   "execution_count": 75,
   "metadata": {},
   "outputs": [
    {
     "data": {
      "text/html": [
       "<div>\n",
       "<style scoped>\n",
       "    .dataframe tbody tr th:only-of-type {\n",
       "        vertical-align: middle;\n",
       "    }\n",
       "\n",
       "    .dataframe tbody tr th {\n",
       "        vertical-align: top;\n",
       "    }\n",
       "\n",
       "    .dataframe thead th {\n",
       "        text-align: right;\n",
       "    }\n",
       "</style>\n",
       "<table border=\"1\" class=\"dataframe\">\n",
       "  <thead>\n",
       "    <tr style=\"text-align: right;\">\n",
       "      <th></th>\n",
       "      <th>&lt;TICKER&gt;</th>\n",
       "      <th>&lt;PER&gt;</th>\n",
       "      <th>&lt;DATE&gt;</th>\n",
       "      <th>&lt;TIME&gt;</th>\n",
       "      <th>&lt;OPEN&gt;</th>\n",
       "      <th>&lt;HIGH&gt;</th>\n",
       "      <th>&lt;LOW&gt;</th>\n",
       "      <th>&lt;CLOSE&gt;</th>\n",
       "      <th>&lt;VOL&gt;</th>\n",
       "    </tr>\n",
       "  </thead>\n",
       "  <tbody>\n",
       "    <tr>\n",
       "      <th>0</th>\n",
       "      <td>GAZP</td>\n",
       "      <td>60</td>\n",
       "      <td>2017-01-03</td>\n",
       "      <td>100000</td>\n",
       "      <td>154.46</td>\n",
       "      <td>156.19</td>\n",
       "      <td>154.12</td>\n",
       "      <td>155.97</td>\n",
       "      <td>2670230</td>\n",
       "    </tr>\n",
       "    <tr>\n",
       "      <th>1</th>\n",
       "      <td>GAZP</td>\n",
       "      <td>60</td>\n",
       "      <td>2017-01-03</td>\n",
       "      <td>110000</td>\n",
       "      <td>155.99</td>\n",
       "      <td>156.99</td>\n",
       "      <td>155.55</td>\n",
       "      <td>155.64</td>\n",
       "      <td>2654680</td>\n",
       "    </tr>\n",
       "    <tr>\n",
       "      <th>2</th>\n",
       "      <td>GAZP</td>\n",
       "      <td>60</td>\n",
       "      <td>2017-01-03</td>\n",
       "      <td>120000</td>\n",
       "      <td>155.65</td>\n",
       "      <td>157.05</td>\n",
       "      <td>155.51</td>\n",
       "      <td>156.85</td>\n",
       "      <td>2682530</td>\n",
       "    </tr>\n",
       "    <tr>\n",
       "      <th>3</th>\n",
       "      <td>GAZP</td>\n",
       "      <td>60</td>\n",
       "      <td>2017-01-03</td>\n",
       "      <td>130000</td>\n",
       "      <td>156.91</td>\n",
       "      <td>156.97</td>\n",
       "      <td>156.25</td>\n",
       "      <td>156.63</td>\n",
       "      <td>2713850</td>\n",
       "    </tr>\n",
       "    <tr>\n",
       "      <th>4</th>\n",
       "      <td>GAZP</td>\n",
       "      <td>60</td>\n",
       "      <td>2017-01-03</td>\n",
       "      <td>140000</td>\n",
       "      <td>156.62</td>\n",
       "      <td>157.30</td>\n",
       "      <td>156.60</td>\n",
       "      <td>156.82</td>\n",
       "      <td>3978730</td>\n",
       "    </tr>\n",
       "    <tr>\n",
       "      <th>...</th>\n",
       "      <td>...</td>\n",
       "      <td>...</td>\n",
       "      <td>...</td>\n",
       "      <td>...</td>\n",
       "      <td>...</td>\n",
       "      <td>...</td>\n",
       "      <td>...</td>\n",
       "      <td>...</td>\n",
       "      <td>...</td>\n",
       "    </tr>\n",
       "    <tr>\n",
       "      <th>17937</th>\n",
       "      <td>GAZP</td>\n",
       "      <td>60</td>\n",
       "      <td>2023-07-06</td>\n",
       "      <td>190000</td>\n",
       "      <td>166.72</td>\n",
       "      <td>166.89</td>\n",
       "      <td>166.53</td>\n",
       "      <td>166.78</td>\n",
       "      <td>379050</td>\n",
       "    </tr>\n",
       "    <tr>\n",
       "      <th>17938</th>\n",
       "      <td>GAZP</td>\n",
       "      <td>60</td>\n",
       "      <td>2023-07-06</td>\n",
       "      <td>200000</td>\n",
       "      <td>166.78</td>\n",
       "      <td>166.79</td>\n",
       "      <td>166.51</td>\n",
       "      <td>166.61</td>\n",
       "      <td>171260</td>\n",
       "    </tr>\n",
       "    <tr>\n",
       "      <th>17939</th>\n",
       "      <td>GAZP</td>\n",
       "      <td>60</td>\n",
       "      <td>2023-07-06</td>\n",
       "      <td>210000</td>\n",
       "      <td>166.60</td>\n",
       "      <td>166.77</td>\n",
       "      <td>166.55</td>\n",
       "      <td>166.68</td>\n",
       "      <td>194370</td>\n",
       "    </tr>\n",
       "    <tr>\n",
       "      <th>17940</th>\n",
       "      <td>GAZP</td>\n",
       "      <td>60</td>\n",
       "      <td>2023-07-06</td>\n",
       "      <td>220000</td>\n",
       "      <td>166.69</td>\n",
       "      <td>166.78</td>\n",
       "      <td>166.57</td>\n",
       "      <td>166.60</td>\n",
       "      <td>192670</td>\n",
       "    </tr>\n",
       "    <tr>\n",
       "      <th>17941</th>\n",
       "      <td>GAZP</td>\n",
       "      <td>60</td>\n",
       "      <td>2023-07-06</td>\n",
       "      <td>230000</td>\n",
       "      <td>166.60</td>\n",
       "      <td>166.66</td>\n",
       "      <td>166.00</td>\n",
       "      <td>166.38</td>\n",
       "      <td>575260</td>\n",
       "    </tr>\n",
       "  </tbody>\n",
       "</table>\n",
       "<p>17942 rows × 9 columns</p>\n",
       "</div>"
      ],
      "text/plain": [
       "      <TICKER>  <PER>     <DATE>  <TIME>  <OPEN>  <HIGH>   <LOW>  <CLOSE>  \\\n",
       "0         GAZP     60 2017-01-03  100000  154.46  156.19  154.12   155.97   \n",
       "1         GAZP     60 2017-01-03  110000  155.99  156.99  155.55   155.64   \n",
       "2         GAZP     60 2017-01-03  120000  155.65  157.05  155.51   156.85   \n",
       "3         GAZP     60 2017-01-03  130000  156.91  156.97  156.25   156.63   \n",
       "4         GAZP     60 2017-01-03  140000  156.62  157.30  156.60   156.82   \n",
       "...        ...    ...        ...     ...     ...     ...     ...      ...   \n",
       "17937     GAZP     60 2023-07-06  190000  166.72  166.89  166.53   166.78   \n",
       "17938     GAZP     60 2023-07-06  200000  166.78  166.79  166.51   166.61   \n",
       "17939     GAZP     60 2023-07-06  210000  166.60  166.77  166.55   166.68   \n",
       "17940     GAZP     60 2023-07-06  220000  166.69  166.78  166.57   166.60   \n",
       "17941     GAZP     60 2023-07-06  230000  166.60  166.66  166.00   166.38   \n",
       "\n",
       "         <VOL>  \n",
       "0      2670230  \n",
       "1      2654680  \n",
       "2      2682530  \n",
       "3      2713850  \n",
       "4      3978730  \n",
       "...        ...  \n",
       "17937   379050  \n",
       "17938   171260  \n",
       "17939   194370  \n",
       "17940   192670  \n",
       "17941   575260  \n",
       "\n",
       "[17942 rows x 9 columns]"
      ]
     },
     "execution_count": 75,
     "metadata": {},
     "output_type": "execute_result"
    }
   ],
   "source": [
    "gasp"
   ]
  },
  {
   "cell_type": "code",
   "execution_count": 80,
   "metadata": {},
   "outputs": [
    {
     "data": {
      "text/plain": [
       "<PER>            0.00\n",
       "<TIME>       36607.58\n",
       "<OPEN>          64.37\n",
       "<HIGH>          64.63\n",
       "<LOW>           64.07\n",
       "<CLOSE>         64.36\n",
       "<VOL>      4717124.38\n",
       "dtype: float64"
      ]
     },
     "execution_count": 80,
     "metadata": {},
     "output_type": "execute_result"
    }
   ],
   "source": [
    "round(np.std(gasp, axis=0), 2)"
   ]
  },
  {
   "cell_type": "code",
   "execution_count": 83,
   "metadata": {},
   "outputs": [
    {
     "data": {
      "text/html": [
       "<div>\n",
       "<style scoped>\n",
       "    .dataframe tbody tr th:only-of-type {\n",
       "        vertical-align: middle;\n",
       "    }\n",
       "\n",
       "    .dataframe tbody tr th {\n",
       "        vertical-align: top;\n",
       "    }\n",
       "\n",
       "    .dataframe thead th {\n",
       "        text-align: right;\n",
       "    }\n",
       "</style>\n",
       "<table border=\"1\" class=\"dataframe\">\n",
       "  <thead>\n",
       "    <tr style=\"text-align: right;\">\n",
       "      <th></th>\n",
       "      <th>&lt;PER&gt;</th>\n",
       "      <th>&lt;TIME&gt;</th>\n",
       "      <th>&lt;OPEN&gt;</th>\n",
       "      <th>&lt;HIGH&gt;</th>\n",
       "      <th>&lt;LOW&gt;</th>\n",
       "      <th>&lt;CLOSE&gt;</th>\n",
       "      <th>&lt;VOL&gt;</th>\n",
       "    </tr>\n",
       "  </thead>\n",
       "  <tbody>\n",
       "    <tr>\n",
       "      <th>count</th>\n",
       "      <td>17942.0</td>\n",
       "      <td>17942.000000</td>\n",
       "      <td>17942.000000</td>\n",
       "      <td>17942.000000</td>\n",
       "      <td>17942.000000</td>\n",
       "      <td>17942.000000</td>\n",
       "      <td>1.794200e+04</td>\n",
       "    </tr>\n",
       "    <tr>\n",
       "      <th>mean</th>\n",
       "      <td>60.0</td>\n",
       "      <td>151795.786423</td>\n",
       "      <td>202.453943</td>\n",
       "      <td>203.142450</td>\n",
       "      <td>201.712023</td>\n",
       "      <td>202.445850</td>\n",
       "      <td>3.737259e+06</td>\n",
       "    </tr>\n",
       "    <tr>\n",
       "      <th>std</th>\n",
       "      <td>0.0</td>\n",
       "      <td>36608.598673</td>\n",
       "      <td>64.367771</td>\n",
       "      <td>64.634734</td>\n",
       "      <td>64.068367</td>\n",
       "      <td>64.358171</td>\n",
       "      <td>4.717256e+06</td>\n",
       "    </tr>\n",
       "    <tr>\n",
       "      <th>min</th>\n",
       "      <td>60.0</td>\n",
       "      <td>70000.000000</td>\n",
       "      <td>112.670000</td>\n",
       "      <td>113.170000</td>\n",
       "      <td>111.460000</td>\n",
       "      <td>112.670000</td>\n",
       "      <td>4.575000e+04</td>\n",
       "    </tr>\n",
       "    <tr>\n",
       "      <th>25%</th>\n",
       "      <td>60.0</td>\n",
       "      <td>120000.000000</td>\n",
       "      <td>155.520000</td>\n",
       "      <td>155.992500</td>\n",
       "      <td>155.000000</td>\n",
       "      <td>155.525000</td>\n",
       "      <td>1.215825e+06</td>\n",
       "    </tr>\n",
       "    <tr>\n",
       "      <th>50%</th>\n",
       "      <td>60.0</td>\n",
       "      <td>150000.000000</td>\n",
       "      <td>182.375000</td>\n",
       "      <td>182.990000</td>\n",
       "      <td>181.750000</td>\n",
       "      <td>182.375000</td>\n",
       "      <td>2.456235e+06</td>\n",
       "    </tr>\n",
       "    <tr>\n",
       "      <th>75%</th>\n",
       "      <td>60.0</td>\n",
       "      <td>180000.000000</td>\n",
       "      <td>234.597500</td>\n",
       "      <td>235.400000</td>\n",
       "      <td>233.757500</td>\n",
       "      <td>234.600000</td>\n",
       "      <td>4.511490e+06</td>\n",
       "    </tr>\n",
       "    <tr>\n",
       "      <th>max</th>\n",
       "      <td>60.0</td>\n",
       "      <td>230000.000000</td>\n",
       "      <td>394.980000</td>\n",
       "      <td>397.640000</td>\n",
       "      <td>391.260000</td>\n",
       "      <td>392.850000</td>\n",
       "      <td>1.106388e+08</td>\n",
       "    </tr>\n",
       "  </tbody>\n",
       "</table>\n",
       "</div>"
      ],
      "text/plain": [
       "         <PER>         <TIME>        <OPEN>        <HIGH>         <LOW>  \\\n",
       "count  17942.0   17942.000000  17942.000000  17942.000000  17942.000000   \n",
       "mean      60.0  151795.786423    202.453943    203.142450    201.712023   \n",
       "std        0.0   36608.598673     64.367771     64.634734     64.068367   \n",
       "min       60.0   70000.000000    112.670000    113.170000    111.460000   \n",
       "25%       60.0  120000.000000    155.520000    155.992500    155.000000   \n",
       "50%       60.0  150000.000000    182.375000    182.990000    181.750000   \n",
       "75%       60.0  180000.000000    234.597500    235.400000    233.757500   \n",
       "max       60.0  230000.000000    394.980000    397.640000    391.260000   \n",
       "\n",
       "            <CLOSE>         <VOL>  \n",
       "count  17942.000000  1.794200e+04  \n",
       "mean     202.445850  3.737259e+06  \n",
       "std       64.358171  4.717256e+06  \n",
       "min      112.670000  4.575000e+04  \n",
       "25%      155.525000  1.215825e+06  \n",
       "50%      182.375000  2.456235e+06  \n",
       "75%      234.600000  4.511490e+06  \n",
       "max      392.850000  1.106388e+08  "
      ]
     },
     "execution_count": 83,
     "metadata": {},
     "output_type": "execute_result"
    }
   ],
   "source": [
    "gasp.describe()"
   ]
  },
  {
   "cell_type": "code",
   "execution_count": 106,
   "metadata": {},
   "outputs": [
    {
     "data": {
      "image/png": "[encoded data removed]",
      "text/plain": [
       "<Figure size 432x288 with 1 Axes>"
      ]
     },
     "metadata": {
      "needs_background": "light"
     },
     "output_type": "display_data"
    }
   ],
   "source": [
    "plt.hist(gasp['<OPEN>'], bins=100)\n",
    "\n",
    "plt.axvline(stats.norm.interval(0.9, loc=gasp['<OPEN>'].mean(), scale=gasp['<OPEN>'].std())[1])\n",
    "\n",
    "plt.show()"
   ]
  },
  {
   "cell_type": "code",
   "execution_count": 89,
   "metadata": {},
   "outputs": [
    {
     "data": {
      "text/plain": [
       "[<matplotlib.lines.Line2D at 0xe284400>]"
      ]
     },
     "execution_count": 89,
     "metadata": {},
     "output_type": "execute_result"
    },
    {
     "data": {
      "image/png": "[encoded data removed]",
      "text/plain": [
       "<Figure size 432x288 with 1 Axes>"
      ]
     },
     "metadata": {
      "needs_background": "light"
     },
     "output_type": "display_data"
    }
   ],
   "source": [
    "plt.plot(gasp['<DATE>'], gasp['<OPEN>'])"
   ]
  },
  {
   "cell_type": "code",
   "execution_count": 94,
   "metadata": {},
   "outputs": [
    {
     "data": {
      "text/plain": [
       "array([-0.85197124, -0.84655166, -0.84775601, ..., -0.80896886,\n",
       "       -0.80865007, -0.80896886])"
      ]
     },
     "execution_count": 94,
     "metadata": {},
     "output_type": "execute_result"
    }
   ],
   "source": [
    "np.array((gasp['<OPEN>'] - np.max(gasp['<OPEN>'])) / (np.max(gasp['<OPEN>']) - np.min(gasp['<OPEN>'])))"
   ]
  },
  {
   "cell_type": "code",
   "execution_count": 90,
   "metadata": {},
   "outputs": [
    {
     "data": {
      "text/plain": [
       "394.98"
      ]
     },
     "execution_count": 90,
     "metadata": {},
     "output_type": "execute_result"
    }
   ],
   "source": [
    "np.max(gasp['<OPEN>'])"
   ]
  },
  {
   "cell_type": "code",
   "execution_count": 97,
   "metadata": {},
   "outputs": [
    {
     "data": {
      "text/plain": [
       "(76.2954304610765, 328.61245494746413)"
      ]
     },
     "execution_count": 97,
     "metadata": {},
     "output_type": "execute_result"
    }
   ],
   "source": [
    "stats.norm.interval(0.95, loc=gasp['<OPEN>'].mean(), scale=gasp['<OPEN>'].std())"
   ]
  },
  {
   "cell_type": "code",
   "execution_count": null,
   "metadata": {},
   "outputs": [],
   "source": []
  }
 ],
 "metadata": {
  "kernelspec": {
   "display_name": "Python 3",
   "language": "python",
   "name": "python3"
  },
  "language_info": {
   "codemirror_mode": {
    "name": "ipython",
    "version": 3
   },
   "file_extension": ".py",
   "mimetype": "text/x-python",
   "name": "python",
   "nbconvert_exporter": "python",
   "pygments_lexer": "ipython3",
   "version": "3.8.5"
  }
 },
 "nbformat": 4,
 "nbformat_minor": 4
}
